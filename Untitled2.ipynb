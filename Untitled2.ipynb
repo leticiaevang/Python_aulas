{
  "nbformat": 4,
  "nbformat_minor": 0,
  "metadata": {
    "colab": {
      "provenance": [],
      "authorship_tag": "ABX9TyOzRkpibgW5Rh+GGytCGbmf",
      "include_colab_link": true
    },
    "kernelspec": {
      "name": "python3",
      "display_name": "Python 3"
    },
    "language_info": {
      "name": "python"
    }
  },
  "cells": [
    {
      "cell_type": "markdown",
      "metadata": {
        "id": "view-in-github",
        "colab_type": "text"
      },
      "source": [
        "<a href=\"https://colab.research.google.com/github/leticiaevang/Python_aulas/blob/main/Untitled2.ipynb\" target=\"_parent\"><img src=\"https://colab.research.google.com/assets/colab-badge.svg\" alt=\"Open In Colab\"/></a>"
      ]
    },
    {
      "cell_type": "code",
      "execution_count": 1,
      "metadata": {
        "colab": {
          "base_uri": "https://localhost:8080/"
        },
        "id": "2Xbk8s99ez4S",
        "outputId": "c6b88517-8c14-4eb7-f622-08d8f2110efc"
      },
      "outputs": [
        {
          "output_type": "stream",
          "name": "stdout",
          "text": [
            "Olá, Mundo!\n"
          ]
        }
      ],
      "source": [
        "print (\"Olá, Mundo!\")"
      ]
    },
    {
      "cell_type": "code",
      "source": [
        "7+4"
      ],
      "metadata": {
        "colab": {
          "base_uri": "https://localhost:8080/"
        },
        "id": "2XU4S7nXgE0Q",
        "outputId": "b70be3d2-91e7-4248-cbfc-e6126ac0d4e3"
      },
      "execution_count": 2,
      "outputs": [
        {
          "output_type": "execute_result",
          "data": {
            "text/plain": [
              "11"
            ]
          },
          "metadata": {},
          "execution_count": 2
        }
      ]
    },
    {
      "cell_type": "code",
      "source": [
        "print (7+4)"
      ],
      "metadata": {
        "colab": {
          "base_uri": "https://localhost:8080/"
        },
        "id": "oKtr1uiIghGs",
        "outputId": "254aee6b-5f73-4407-a0ca-e27a943c204b"
      },
      "execution_count": 3,
      "outputs": [
        {
          "output_type": "stream",
          "name": "stdout",
          "text": [
            "11\n"
          ]
        }
      ]
    },
    {
      "cell_type": "code",
      "source": [
        "print(\"7\"+\"4\")"
      ],
      "metadata": {
        "colab": {
          "base_uri": "https://localhost:8080/"
        },
        "id": "r_UUpxhpgpb8",
        "outputId": "3117294b-01bd-4f4e-da70-48cc487d7419"
      },
      "execution_count": 4,
      "outputs": [
        {
          "output_type": "stream",
          "name": "stdout",
          "text": [
            "74\n"
          ]
        }
      ]
    },
    {
      "cell_type": "code",
      "source": [
        "nome = \"Letícia\"\n",
        "idade = \"18 anos\"\n",
        "peso = \"59 kg\"\n",
        "\n",
        "print (nome, idade, peso)"
      ],
      "metadata": {
        "colab": {
          "base_uri": "https://localhost:8080/"
        },
        "id": "M4AInPUqh9sZ",
        "outputId": "47a15097-c1ca-4b4b-bce3-592d44c13529"
      },
      "execution_count": 7,
      "outputs": [
        {
          "output_type": "stream",
          "name": "stdout",
          "text": [
            "Letícia 18 anos 59 kg\n"
          ]
        }
      ]
    },
    {
      "cell_type": "code",
      "source": [
        "nome = input (\"Qual seu nome?\")\n",
        "idade = input (\"Quantos anos você tem?\")\n",
        "peso = input (\"Quanto você pesa?\")\n",
        "\n",
        "print (nome, \"tem\", idade, \"e pesa\", peso)"
      ],
      "metadata": {
        "colab": {
          "base_uri": "https://localhost:8080/"
        },
        "id": "6LvjQZcpjB4u",
        "outputId": "2fcc9ed1-d238-4634-d2d4-7e43a71b9f6e"
      },
      "execution_count": 19,
      "outputs": [
        {
          "output_type": "stream",
          "name": "stdout",
          "text": [
            "Qual seu nome?maria\n",
            "Quantos anos você tem?45\n",
            "Quanto você pesa?70\n",
            "maria tem 45 e pesa 70\n"
          ]
        }
      ]
    },
    {
      "cell_type": "code",
      "source": [
        "nome = input (\"Qual seu nome?\")\n",
        "\n",
        "print (\"Seja Bem-Vinde\", nome)"
      ],
      "metadata": {
        "colab": {
          "base_uri": "https://localhost:8080/"
        },
        "id": "wCuL-BG5mLxc",
        "outputId": "1daf0e31-3882-4785-ac53-590c786025f1"
      },
      "execution_count": 11,
      "outputs": [
        {
          "output_type": "stream",
          "name": "stdout",
          "text": [
            "Qual seu nome?Letícia \n",
            "Seja Bem-Vinde Letícia \n"
          ]
        }
      ]
    },
    {
      "cell_type": "code",
      "source": [
        "nome = input (\"Qual seu nome?\")\n",
        "\n",
        "print (\"Olá\", nome, \"! Seja bem-vinde, é um prazer te conhecer\")"
      ],
      "metadata": {
        "colab": {
          "base_uri": "https://localhost:8080/"
        },
        "id": "kOc4kOP6nC53",
        "outputId": "4fd998ee-4f28-4d0f-88a8-5a7fabcdf0e5"
      },
      "execution_count": 12,
      "outputs": [
        {
          "output_type": "stream",
          "name": "stdout",
          "text": [
            "Qual seu nome?Leticia\n",
            "Olá Leticia ! Seja bem-vinde, é um prazer te conhecer\n"
          ]
        }
      ]
    },
    {
      "cell_type": "code",
      "source": [
        "dia = input (\"Que dia você nasceu?\")\n",
        "mes = input (\"Que mês você nasceu?\")\n",
        "ano = input (\"Que ano você nasceu?\")\n",
        "\n",
        "print (\"Você nasceu dia\", dia, \"de\", mes, \"de\", ano, \".Correto?\")"
      ],
      "metadata": {
        "colab": {
          "base_uri": "https://localhost:8080/"
        },
        "id": "lxXLnXyvn8vc",
        "outputId": "5f8223ed-26fc-4ae5-91b5-0c85233f0ae8"
      },
      "execution_count": 14,
      "outputs": [
        {
          "output_type": "stream",
          "name": "stdout",
          "text": [
            "Que dia você nasceu?13\n",
            "Que mês você nasceu?julho\n",
            "Que ano você nasceu?2006\n",
            "Você nasceu dia 13 de julho de 2006 .Correto?\n"
          ]
        }
      ]
    },
    {
      "cell_type": "code",
      "source": [
        "primeiro_numero = input (\"Digite um número\")\n",
        "segundo_numero = input (\"Digite outro número\")\n",
        "\n",
        "print (\"A soma é\", primeiro_numero + segundo_numero)"
      ],
      "metadata": {
        "colab": {
          "base_uri": "https://localhost:8080/"
        },
        "id": "dWVw8dxupLWx",
        "outputId": "ebf82654-8bd4-4663-a977-8d602b2d443e"
      },
      "execution_count": 16,
      "outputs": [
        {
          "output_type": "stream",
          "name": "stdout",
          "text": [
            "Digite um número5\n",
            "Digite outro número9\n",
            "A soma é 59\n"
          ]
        }
      ]
    },
    {
      "cell_type": "code",
      "source": [
        "primeiro_numero = int(input (\"Digite um número\"))\n",
        "segundo_numero = int(input (\"Digite outro número\"))\n",
        "\n",
        "print (\"A soma é\", primeiro_numero + segundo_numero)"
      ],
      "metadata": {
        "colab": {
          "base_uri": "https://localhost:8080/"
        },
        "id": "S4tKRv_1p2Do",
        "outputId": "dec4277e-4e12-4c9e-d30b-aefd8be23534"
      },
      "execution_count": 18,
      "outputs": [
        {
          "output_type": "stream",
          "name": "stdout",
          "text": [
            "Digite um número5\n",
            "Digite outro número9\n",
            "A soma é 14\n"
          ]
        }
      ]
    }
  ]
}